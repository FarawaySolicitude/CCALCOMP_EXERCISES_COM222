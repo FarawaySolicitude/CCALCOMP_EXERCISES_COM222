{
  "cells": [
    {
      "cell_type": "markdown",
      "metadata": {
        "id": "3-prKGbfwFRd"
      },
      "source": [
        "# Exercise 1"
      ]
    },
    {
      "cell_type": "markdown",
      "metadata": {
        "id": "kBW-_z9HwFRf"
      },
      "source": [
        "Please follow the instructions in each number. Do not remove or modify the pre-defined code!"
      ]
    },
    {
      "cell_type": "code",
      "execution_count": 37,
      "metadata": {
        "id": "ABAdD_ngwFRg"
      },
      "outputs": [],
      "source": [
        "# Add a vertex to the set of vertices and the graph\n",
        "def add_vertex(v):\n",
        "  global graph\n",
        "  global vertices_no\n",
        "  global vertices\n",
        "  if v in vertices:\n",
        "    print(\"Vertex \", v, \" already exists\")\n",
        "  else:\n",
        "    vertices_no = vertices_no + 1\n",
        "    vertices.append(v)\n",
        "    if vertices_no > 1:\n",
        "        for vertex in graph:\n",
        "            vertex.append(0)\n",
        "    temp = []\n",
        "    for i in range(vertices_no):\n",
        "        temp.append(0)\n",
        "    graph.append(temp)\n",
        "\n",
        "# Add an edge between vertex v1 and v2 with edge weight e\n",
        "def add_edge(v1, v2, e):\n",
        "    global graph\n",
        "    global vertices_no\n",
        "    global vertices\n",
        "    # Check if vertex v1 is a valid vertex\n",
        "    if v1 not in vertices:\n",
        "        print(\"Vertex \", v1, \" does not exist.\")\n",
        "    # Check if vertex v1 is a valid vertex\n",
        "    elif v2 not in vertices:\n",
        "        print(\"Vertex \", v2, \" does not exist.\")\n",
        "    # Since this code is not restricted to a directed or\n",
        "    # an undirected graph, an edge between v1 v2 does not\n",
        "    # imply that an edge exists between v2 and v1\n",
        "    else:\n",
        "        index1 = vertices.index(v1)\n",
        "        index2 = vertices.index(v2)\n",
        "        graph[index1][index2] = e\n",
        "\n",
        "# Print the graph\n",
        "def print_graph():\n",
        "  global graph\n",
        "  global vertices_no\n",
        "  for i in range(vertices_no):\n",
        "    for j in range(vertices_no):\n",
        "      if graph[i][j] != 0:\n",
        "        print(vertices[i], \" -> \", vertices[j],\n",
        "              \" edge weight: \", graph[i][j])"
      ]
    },
    {
      "cell_type": "code",
      "execution_count": 36,
      "metadata": {
        "id": "912w9tR0wFRh"
      },
      "outputs": [],
      "source": [
        "# stores the vertices in the graph\n",
        "vertices = []\n",
        "# stores the number of vertices in the graph\n",
        "vertices_no = 0\n",
        "graph = []"
      ]
    },
    {
      "cell_type": "markdown",
      "metadata": {
        "id": "lzkib3wYwFRh"
      },
      "source": [
        "<img src=\"https://github.com/robitussin/CCALCOMP_EXERCISES/blob/main/images/directed%20graph2.png?raw=true\"/>"
      ]
    },
    {
      "cell_type": "markdown",
      "metadata": {
        "id": "Qfh-2gbPwFRi"
      },
      "source": [
        "1. Print the edges and vertices of the graph in set representation. (`25 points`)"
      ]
    },
    {
      "cell_type": "code",
      "execution_count": 9,
      "metadata": {
        "id": "FSymqoxmwFRi",
        "outputId": "2a89916f-0387-4e31-f856-7a3e1f3620b9",
        "colab": {
          "base_uri": "https://localhost:8080/"
        }
      },
      "outputs": [
        {
          "output_type": "stream",
          "name": "stdout",
          "text": [
            "Vertex  E  already exists\n",
            "Vertex  A  already exists\n",
            "Vertex  D  already exists\n",
            "Vertex  B  already exists\n",
            "Vertex  C  already exists\n",
            "Vertices: {'A', 'E', 'C', 'B', 'D'}\n",
            "Edges: {('C', 'D'), ('A', 'C'), ('E', 'A'), ('A', 'D'), ('B', 'A'), ('C', 'B')}\n"
          ]
        }
      ],
      "source": [
        "\n",
        "# put your answer here\n",
        "add_vertex('E')\n",
        "add_vertex('A')\n",
        "add_vertex('D')\n",
        "add_vertex('B')\n",
        "add_vertex('C')\n",
        "\n",
        "add_edge('E', 'A', 7)\n",
        "add_edge('A', 'D', 60)\n",
        "add_edge('A', 'C', 12)\n",
        "add_edge('B', 'A', 10)\n",
        "add_edge('C', 'B', 20)\n",
        "add_edge('C', 'D', 32)\n",
        "\n",
        "print(\"Vertices:\", set(vertices))\n",
        "print(\"Edges:\", {('E', 'A'), ('A', 'D'), ('A', 'C'), ('B', 'A'), ('C', 'B'), ('C', 'D')})\n",
        "\n"
      ]
    },
    {
      "cell_type": "markdown",
      "metadata": {
        "id": "NHt6QEFzwFRi"
      },
      "source": [
        "2. Implement the weighted graph in python code. Use the print_graph() function. (`25 points`)"
      ]
    },
    {
      "cell_type": "code",
      "execution_count": 10,
      "metadata": {
        "id": "fcYP9VF9wFRj",
        "outputId": "914d5db4-e41a-4b23-e50e-babacb3daae8",
        "colab": {
          "base_uri": "https://localhost:8080/"
        }
      },
      "outputs": [
        {
          "output_type": "stream",
          "name": "stdout",
          "text": [
            "Vertex  E  already exists\n",
            "Vertex  A  already exists\n",
            "Vertex  D  already exists\n",
            "Vertex  B  already exists\n",
            "Vertex  C  already exists\n",
            "E  ->  A  edge weight:  7\n",
            "A  ->  D  edge weight:  60\n",
            "A  ->  C  edge weight:  12\n",
            "B  ->  A  edge weight:  10\n",
            "C  ->  D  edge weight:  32\n",
            "C  ->  B  edge weight:  20\n"
          ]
        }
      ],
      "source": [
        "add_vertex('E')\n",
        "add_vertex('A')\n",
        "add_vertex('D')\n",
        "add_vertex('B')\n",
        "add_vertex('C')\n",
        "\n",
        "add_edge('E', 'A', 7)\n",
        "add_edge('A', 'D', 60)\n",
        "add_edge('A', 'C', 12)\n",
        "add_edge('B', 'A', 10)\n",
        "add_edge('C', 'B', 20)\n",
        "add_edge('C', 'D', 32)\n",
        "\n",
        "print_graph()"
      ]
    },
    {
      "cell_type": "markdown",
      "metadata": {
        "id": "kD-6afNTwFRj"
      },
      "source": [
        "3. You decided to go on a trip around the philippines. Being a computer scientist, you wanted to find the optimal route that would cost the least amount of money to travel all four cities. Find the route and print the total cost of the most optimal route. (`50 points`)"
      ]
    },
    {
      "cell_type": "markdown",
      "metadata": {
        "id": "cBHIHSIewFRj"
      },
      "source": [
        "<img src=\"https://github.com/robitussin/CCALCOMP_EXERCISES/blob/main/images/trip.png?raw=true\" width=\"500\" height=\"600\"/>"
      ]
    },
    {
      "cell_type": "code",
      "execution_count": 60,
      "metadata": {
        "id": "yNwmvIXnwFRj",
        "outputId": "4169707f-5ae0-4ad6-ce2f-5574f31dc2ef",
        "colab": {
          "base_uri": "https://localhost:8080/"
        }
      },
      "outputs": [
        {
          "output_type": "stream",
          "name": "stdout",
          "text": [
            "Vertex  Manila  already exists\n",
            "Vertex  Puerto Princesa  already exists\n",
            "Vertex  Davao  already exists\n",
            "Vertex  Tacloban  already exists\n",
            "Optimal Route: Manila -> Puerto Princesa -> Tacloban -> Davao\n",
            "Total Cost: 11500\n"
          ]
        }
      ],
      "source": [
        "# put your answer here\n",
        "from itertools import permutations\n",
        "\n",
        "\n",
        "add_vertex('Manila')\n",
        "add_vertex('Puerto Princesa')\n",
        "add_vertex('Davao')\n",
        "add_vertex('Tacloban')\n",
        "\n",
        "\n",
        "add_edge('Manila', 'Puerto Princesa', 8000)\n",
        "add_edge('Manila', 'Davao', 5000)\n",
        "add_edge('Manila', 'Tacloban', 1000)\n",
        "add_edge('Puerto Princesa', 'Tacloban', 1500)\n",
        "add_edge('Puerto Princesa', 'Davao', 4000)\n",
        "add_edge('Tacloban', 'Davao', 2000)\n",
        "\n",
        "\n",
        "def calculate_cost(route):\n",
        "    cost = 0\n",
        "    for i in range(len(route) - 1):\n",
        "        cost += graph[vertices.index(route[i])][vertices.index(route[i + 1])]\n",
        "    return cost\n",
        "\n",
        "\n",
        "routes = permutations(vertices)\n",
        "\n",
        "\n",
        "least_cost = float('inf')\n",
        "optimal_route = None\n",
        "\n",
        "\n",
        "for route in routes:\n",
        "\n",
        "    valid_route = all(graph[vertices.index(route[i])][vertices.index(route[i + 1])] != 0 for i in range(len(route) - 1))\n",
        "    if valid_route:\n",
        "        cost = calculate_cost(route)\n",
        "        if cost < least_cost:\n",
        "            least_cost = cost\n",
        "            optimal_route = route\n",
        "\n",
        "\n",
        "if optimal_route:\n",
        "    print(\"Optimal Route:\", \" -> \".join(optimal_route))\n",
        "    print(\"Total Cost:\", least_cost)\n",
        "else:\n",
        "    print(\"No valid route found.\")\n"
      ]
    }
  ],
  "metadata": {
    "kernelspec": {
      "display_name": "base",
      "language": "python",
      "name": "python3"
    },
    "language_info": {
      "codemirror_mode": {
        "name": "ipython",
        "version": 3
      },
      "file_extension": ".py",
      "mimetype": "text/x-python",
      "name": "python",
      "nbconvert_exporter": "python",
      "pygments_lexer": "ipython3",
      "version": "3.9.6"
    },
    "colab": {
      "provenance": []
    }
  },
  "nbformat": 4,
  "nbformat_minor": 0
}